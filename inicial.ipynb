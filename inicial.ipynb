{
 "cells": [
  {
   "cell_type": "code",
   "execution_count": null,
   "metadata": {},
   "outputs": [],
   "source": [
    "# Instalação de bibliotecas necessárias (caso ainda não estejam instaladas)\n",
    "# !pip install pandas openpyxl numpy nbformat plotly ipykernel\n",
    "\n",
    "# Passo a passo:\n",
    "# 1. Importar a base de dados\n",
    "# 2. pandas -> Para análise de dados\n",
    "# 3. plotly -> Para criação de gráficos\n",
    "# 4. numpy -> Para cálculos matemáticos\n",
    "\n",
    "import pandas as pd\n",
    "\n",
    "# Carregando a base de dados a partir de um arquivo CSV\n",
    "tabela = pd.read_csv(\"cancelamentos_sample.csv\")\n",
    "\n",
    "# Removendo a coluna \"CustomerID\", pois não é relevante para a análise\n",
    "tabela = tabela.drop(columns=\"CustomerID\")\n",
    "display(tabela)"
   ]
  },
  {
   "cell_type": "code",
   "execution_count": null,
   "metadata": {},
   "outputs": [],
   "source": [
    "# Visualizar a base de dados para dois objetivos:\n",
    "# 1. Entender a estrutura da base de dados\n",
    "# 2. Identificar o problema a ser resolvido"
   ]
  },
  {
   "cell_type": "code",
   "execution_count": null,
   "metadata": {},
   "outputs": [],
   "source": [
    "# Resolver problemas na base de dados (limpeza, tratamento, engenharia de features)\n",
    "# Informação irrelevante ou incorreta pode atrapalhar a análise!\n",
    "\n",
    "# Removendo linhas com valores ausentes (NaN)\n",
    "tabela = tabela.dropna()\n",
    "display(tabela.info())"
   ]
  },
  {
   "cell_type": "code",
   "execution_count": null,
   "metadata": {},
   "outputs": [],
   "source": [
    "# Realizar uma análise inicial para responder perguntas como:\n",
    "# - Quantos clientes cancelaram?\n",
    "# - Qual a porcentagem de cancelamentos?\n",
    "\n",
    "# Contagem de valores na coluna \"cancelou\"\n",
    "tabela[\"cancelou\"].value_counts()\n",
    "\n",
    "# Contagem em percentual\n",
    "tabela[\"cancelou\"].value_counts(normalize=True)"
   ]
  },
  {
   "cell_type": "code",
   "execution_count": null,
   "metadata": {},
   "outputs": [],
   "source": [
    "# Análise detalhada para cruzar variáveis e entender o comportamento dos clientes\n",
    "# Objetivo: Identificar como cada coluna influencia no cancelamento\n",
    "\n",
    "import plotly.express as px\n",
    "\n",
    "# Criando gráficos para cada coluna da tabela\n",
    "for coluna in tabela.columns:\n",
    "   grafico = px.histogram(tabela, x=coluna, color=\"cancelou\", text_auto=True)\n",
    "   grafico.show()"
   ]
  },
  {
   "cell_type": "code",
   "execution_count": null,
   "metadata": {},
   "outputs": [],
   "source": [
    "# Insights obtidos:\n",
    "# 1. Clientes com contrato mensal têm maior taxa de cancelamento\n",
    "#    -> Estratégia: Oferecer descontos em planos anuais e trimestrais\n",
    "# 2. Clientes que ligam mais de 4 vezes para o call center cancelam mais\n",
    "#    -> Estratégia: Resolver problemas em até 3 ligações\n",
    "# 3. Clientes com mais de 20 dias de atraso cancelam mais\n",
    "#    -> Estratégia: Resolver atrasos em até 10 dias (equipe financeira)\n",
    "\n",
    "# Aplicando filtros para simular as estratégias\n",
    "tabela = tabela[tabela[\"duracao_contrato\"] != \"Monthly\"]\n",
    "tabela = tabela[tabela[\"ligacoes_callcenter\"] <= 4]\n",
    "tabela = tabela[tabela[\"dias_atraso\"] <= 20]\n",
    "\n",
    "# Verificando os resultados após aplicar as estratégias\n",
    "display(tabela[\"cancelou\"].value_counts())\n",
    "\n",
    "# Resultados em percentual\n",
    "display(tabela[\"cancelou\"].value_counts(normalize=True))"
   ]
  }
 ],
 "metadata": {
  "kernelspec": {
   "display_name": "Python 3",
   "language": "python",
   "name": "python3"
  },
  "language_info": {
   "codemirror_mode": {
    "name": "ipython",
    "version": 3
   },
   "file_extension": ".py",
   "mimetype": "text/x-python",
   "name": "python",
   "nbconvert_exporter": "python",
   "pygments_lexer": "ipython3",
   "version": "3.13.7"
  },
  "orig_nbformat": 4
 },
 "nbformat": 4,
 "nbformat_minor": 2
}
